{
 "cells": [
  {
   "cell_type": "markdown",
   "id": "833afb81-4d5f-40ab-a338-b4d25254082f",
   "metadata": {},
   "source": [
    "<h1 style=\"font-size: 24px; text-align: center; color:blue;\"><b> Unsupervised Machine Learning : Clustering<br>Assignment-5</b></h1>"
   ]
  },
  {
   "cell_type": "markdown",
   "id": "c32e8179-4d9a-4e42-a480-c3a6da42c240",
   "metadata": {},
   "source": [
    "### Objective:\n",
    "The objective of this assessment is to evaluate your understanding and ability to apply clustering techniques to a real-world dataset.\n",
    "\n"
   ]
  },
  {
   "cell_type": "markdown",
   "id": "4ed2d397-fa5b-4f6f-854f-9b106c323845",
   "metadata": {},
   "source": [
    "### Dataset\n",
    "Use the Iris dataset available in the sklearn library.\n"
   ]
  },
  {
   "cell_type": "code",
   "execution_count": 210,
   "id": "ff6d5d77-cba8-4a4f-ac56-457ed005b44c",
   "metadata": {},
   "outputs": [],
   "source": [
    "import pandas as pd\n",
    "import matplotlib.pyplot as plt\n",
    "import numpy as np\n",
    "from sklearn.datasets import load_iris\n",
    "from sklearn.preprocessing import StandardScaler\n",
    "from sklearn.cluster import AgglomerativeClustering\n",
    "import scipy.cluster.hierarchy as shc\n",
    "from scipy.cluster.hierarchy import dendrogram, linkage\n",
    "from sklearn.decomposition import PCA\n",
    "from sklearn.cluster import KMeans\n",
    "import warnings \n",
    "warnings.filterwarnings('ignore')"
   ]
  },
  {
   "cell_type": "markdown",
   "id": "8ed49f3c-9329-4101-866f-46888777229d",
   "metadata": {},
   "source": [
    "### 1. Loading and Preprocessing \n"
   ]
  },
  {
   "cell_type": "code",
   "execution_count": 115,
   "id": "37240bf3-f2a6-46f9-9b91-ebfdd6d9dd30",
   "metadata": {},
   "outputs": [
    {
     "data": {
      "text/html": [
       "<div>\n",
       "<style scoped>\n",
       "    .dataframe tbody tr th:only-of-type {\n",
       "        vertical-align: middle;\n",
       "    }\n",
       "\n",
       "    .dataframe tbody tr th {\n",
       "        vertical-align: top;\n",
       "    }\n",
       "\n",
       "    .dataframe thead th {\n",
       "        text-align: right;\n",
       "    }\n",
       "</style>\n",
       "<table border=\"1\" class=\"dataframe\">\n",
       "  <thead>\n",
       "    <tr style=\"text-align: right;\">\n",
       "      <th></th>\n",
       "      <th>sepal length (cm)</th>\n",
       "      <th>sepal width (cm)</th>\n",
       "      <th>petal length (cm)</th>\n",
       "      <th>petal width (cm)</th>\n",
       "    </tr>\n",
       "  </thead>\n",
       "  <tbody>\n",
       "    <tr>\n",
       "      <th>0</th>\n",
       "      <td>5.1</td>\n",
       "      <td>3.5</td>\n",
       "      <td>1.4</td>\n",
       "      <td>0.2</td>\n",
       "    </tr>\n",
       "    <tr>\n",
       "      <th>1</th>\n",
       "      <td>4.9</td>\n",
       "      <td>3.0</td>\n",
       "      <td>1.4</td>\n",
       "      <td>0.2</td>\n",
       "    </tr>\n",
       "    <tr>\n",
       "      <th>2</th>\n",
       "      <td>4.7</td>\n",
       "      <td>3.2</td>\n",
       "      <td>1.3</td>\n",
       "      <td>0.2</td>\n",
       "    </tr>\n",
       "    <tr>\n",
       "      <th>3</th>\n",
       "      <td>4.6</td>\n",
       "      <td>3.1</td>\n",
       "      <td>1.5</td>\n",
       "      <td>0.2</td>\n",
       "    </tr>\n",
       "    <tr>\n",
       "      <th>4</th>\n",
       "      <td>5.0</td>\n",
       "      <td>3.6</td>\n",
       "      <td>1.4</td>\n",
       "      <td>0.2</td>\n",
       "    </tr>\n",
       "  </tbody>\n",
       "</table>\n",
       "</div>"
      ],
      "text/plain": [
       "   sepal length (cm)  sepal width (cm)  petal length (cm)  petal width (cm)\n",
       "0                5.1               3.5                1.4               0.2\n",
       "1                4.9               3.0                1.4               0.2\n",
       "2                4.7               3.2                1.3               0.2\n",
       "3                4.6               3.1                1.5               0.2\n",
       "4                5.0               3.6                1.4               0.2"
      ]
     },
     "execution_count": 115,
     "metadata": {},
     "output_type": "execute_result"
    }
   ],
   "source": [
    "iris=load_iris()\n",
    "df=pd.DataFrame(data=iris.data,columns=iris.feature_names)\n",
    "df.head()"
   ]
  },
  {
   "cell_type": "code",
   "execution_count": 117,
   "id": "f70248b9-f5f3-44d2-8525-1b0cac6fc8f6",
   "metadata": {},
   "outputs": [],
   "source": [
    "df['Target']=iris.target"
   ]
  },
  {
   "cell_type": "code",
   "execution_count": 119,
   "id": "c00d20af-b022-4399-b0be-6ef0b3d6fc1d",
   "metadata": {},
   "outputs": [
    {
     "data": {
      "text/plain": [
       "0      0\n",
       "1      0\n",
       "2      0\n",
       "3      0\n",
       "4      0\n",
       "      ..\n",
       "145    2\n",
       "146    2\n",
       "147    2\n",
       "148    2\n",
       "149    2\n",
       "Name: Target, Length: 150, dtype: int32"
      ]
     },
     "execution_count": 119,
     "metadata": {},
     "output_type": "execute_result"
    }
   ],
   "source": [
    "df['Target']"
   ]
  },
  {
   "cell_type": "code",
   "execution_count": 121,
   "id": "325992c2-42cb-4c7d-b499-7c3adbe7c03b",
   "metadata": {},
   "outputs": [
    {
     "data": {
      "text/html": [
       "<div>\n",
       "<style scoped>\n",
       "    .dataframe tbody tr th:only-of-type {\n",
       "        vertical-align: middle;\n",
       "    }\n",
       "\n",
       "    .dataframe tbody tr th {\n",
       "        vertical-align: top;\n",
       "    }\n",
       "\n",
       "    .dataframe thead th {\n",
       "        text-align: right;\n",
       "    }\n",
       "</style>\n",
       "<table border=\"1\" class=\"dataframe\">\n",
       "  <thead>\n",
       "    <tr style=\"text-align: right;\">\n",
       "      <th></th>\n",
       "      <th>sepal length (cm)</th>\n",
       "      <th>sepal width (cm)</th>\n",
       "      <th>petal length (cm)</th>\n",
       "      <th>petal width (cm)</th>\n",
       "      <th>Target</th>\n",
       "    </tr>\n",
       "  </thead>\n",
       "  <tbody>\n",
       "    <tr>\n",
       "      <th>0</th>\n",
       "      <td>5.1</td>\n",
       "      <td>3.5</td>\n",
       "      <td>1.4</td>\n",
       "      <td>0.2</td>\n",
       "      <td>0</td>\n",
       "    </tr>\n",
       "    <tr>\n",
       "      <th>1</th>\n",
       "      <td>4.9</td>\n",
       "      <td>3.0</td>\n",
       "      <td>1.4</td>\n",
       "      <td>0.2</td>\n",
       "      <td>0</td>\n",
       "    </tr>\n",
       "    <tr>\n",
       "      <th>2</th>\n",
       "      <td>4.7</td>\n",
       "      <td>3.2</td>\n",
       "      <td>1.3</td>\n",
       "      <td>0.2</td>\n",
       "      <td>0</td>\n",
       "    </tr>\n",
       "    <tr>\n",
       "      <th>3</th>\n",
       "      <td>4.6</td>\n",
       "      <td>3.1</td>\n",
       "      <td>1.5</td>\n",
       "      <td>0.2</td>\n",
       "      <td>0</td>\n",
       "    </tr>\n",
       "    <tr>\n",
       "      <th>4</th>\n",
       "      <td>5.0</td>\n",
       "      <td>3.6</td>\n",
       "      <td>1.4</td>\n",
       "      <td>0.2</td>\n",
       "      <td>0</td>\n",
       "    </tr>\n",
       "  </tbody>\n",
       "</table>\n",
       "</div>"
      ],
      "text/plain": [
       "   sepal length (cm)  sepal width (cm)  petal length (cm)  petal width (cm)  \\\n",
       "0                5.1               3.5                1.4               0.2   \n",
       "1                4.9               3.0                1.4               0.2   \n",
       "2                4.7               3.2                1.3               0.2   \n",
       "3                4.6               3.1                1.5               0.2   \n",
       "4                5.0               3.6                1.4               0.2   \n",
       "\n",
       "   Target  \n",
       "0       0  \n",
       "1       0  \n",
       "2       0  \n",
       "3       0  \n",
       "4       0  "
      ]
     },
     "execution_count": 121,
     "metadata": {},
     "output_type": "execute_result"
    }
   ],
   "source": [
    "df.head()"
   ]
  },
  {
   "cell_type": "code",
   "execution_count": 123,
   "id": "67679f8e-0206-4edf-a8c2-5e74ebb87b0c",
   "metadata": {},
   "outputs": [
    {
     "data": {
      "text/plain": [
       "(150, 5)"
      ]
     },
     "execution_count": 123,
     "metadata": {},
     "output_type": "execute_result"
    }
   ],
   "source": [
    "df.shape"
   ]
  },
  {
   "cell_type": "code",
   "execution_count": 125,
   "id": "992097a9-5dcd-4060-9bd9-f37470cea7f5",
   "metadata": {},
   "outputs": [
    {
     "name": "stdout",
     "output_type": "stream",
     "text": [
      "<class 'pandas.core.frame.DataFrame'>\n",
      "RangeIndex: 150 entries, 0 to 149\n",
      "Data columns (total 5 columns):\n",
      " #   Column             Non-Null Count  Dtype  \n",
      "---  ------             --------------  -----  \n",
      " 0   sepal length (cm)  150 non-null    float64\n",
      " 1   sepal width (cm)   150 non-null    float64\n",
      " 2   petal length (cm)  150 non-null    float64\n",
      " 3   petal width (cm)   150 non-null    float64\n",
      " 4   Target             150 non-null    int32  \n",
      "dtypes: float64(4), int32(1)\n",
      "memory usage: 5.4 KB\n"
     ]
    }
   ],
   "source": [
    "df.info()"
   ]
  },
  {
   "cell_type": "code",
   "execution_count": 31,
   "id": "6fe8f359-db2e-4139-9c85-855638bd8052",
   "metadata": {},
   "outputs": [
    {
     "data": {
      "text/html": [
       "<div>\n",
       "<style scoped>\n",
       "    .dataframe tbody tr th:only-of-type {\n",
       "        vertical-align: middle;\n",
       "    }\n",
       "\n",
       "    .dataframe tbody tr th {\n",
       "        vertical-align: top;\n",
       "    }\n",
       "\n",
       "    .dataframe thead th {\n",
       "        text-align: right;\n",
       "    }\n",
       "</style>\n",
       "<table border=\"1\" class=\"dataframe\">\n",
       "  <thead>\n",
       "    <tr style=\"text-align: right;\">\n",
       "      <th></th>\n",
       "      <th>sepal length (cm)</th>\n",
       "      <th>sepal width (cm)</th>\n",
       "      <th>petal length (cm)</th>\n",
       "      <th>petal width (cm)</th>\n",
       "      <th>Target</th>\n",
       "    </tr>\n",
       "  </thead>\n",
       "  <tbody>\n",
       "    <tr>\n",
       "      <th>count</th>\n",
       "      <td>150.000000</td>\n",
       "      <td>150.000000</td>\n",
       "      <td>150.000000</td>\n",
       "      <td>150.000000</td>\n",
       "      <td>150.000000</td>\n",
       "    </tr>\n",
       "    <tr>\n",
       "      <th>mean</th>\n",
       "      <td>5.843333</td>\n",
       "      <td>3.057333</td>\n",
       "      <td>3.758000</td>\n",
       "      <td>1.199333</td>\n",
       "      <td>1.000000</td>\n",
       "    </tr>\n",
       "    <tr>\n",
       "      <th>std</th>\n",
       "      <td>0.828066</td>\n",
       "      <td>0.435866</td>\n",
       "      <td>1.765298</td>\n",
       "      <td>0.762238</td>\n",
       "      <td>0.819232</td>\n",
       "    </tr>\n",
       "    <tr>\n",
       "      <th>min</th>\n",
       "      <td>4.300000</td>\n",
       "      <td>2.000000</td>\n",
       "      <td>1.000000</td>\n",
       "      <td>0.100000</td>\n",
       "      <td>0.000000</td>\n",
       "    </tr>\n",
       "    <tr>\n",
       "      <th>25%</th>\n",
       "      <td>5.100000</td>\n",
       "      <td>2.800000</td>\n",
       "      <td>1.600000</td>\n",
       "      <td>0.300000</td>\n",
       "      <td>0.000000</td>\n",
       "    </tr>\n",
       "    <tr>\n",
       "      <th>50%</th>\n",
       "      <td>5.800000</td>\n",
       "      <td>3.000000</td>\n",
       "      <td>4.350000</td>\n",
       "      <td>1.300000</td>\n",
       "      <td>1.000000</td>\n",
       "    </tr>\n",
       "    <tr>\n",
       "      <th>75%</th>\n",
       "      <td>6.400000</td>\n",
       "      <td>3.300000</td>\n",
       "      <td>5.100000</td>\n",
       "      <td>1.800000</td>\n",
       "      <td>2.000000</td>\n",
       "    </tr>\n",
       "    <tr>\n",
       "      <th>max</th>\n",
       "      <td>7.900000</td>\n",
       "      <td>4.400000</td>\n",
       "      <td>6.900000</td>\n",
       "      <td>2.500000</td>\n",
       "      <td>2.000000</td>\n",
       "    </tr>\n",
       "  </tbody>\n",
       "</table>\n",
       "</div>"
      ],
      "text/plain": [
       "       sepal length (cm)  sepal width (cm)  petal length (cm)  \\\n",
       "count         150.000000        150.000000         150.000000   \n",
       "mean            5.843333          3.057333           3.758000   \n",
       "std             0.828066          0.435866           1.765298   \n",
       "min             4.300000          2.000000           1.000000   \n",
       "25%             5.100000          2.800000           1.600000   \n",
       "50%             5.800000          3.000000           4.350000   \n",
       "75%             6.400000          3.300000           5.100000   \n",
       "max             7.900000          4.400000           6.900000   \n",
       "\n",
       "       petal width (cm)      Target  \n",
       "count        150.000000  150.000000  \n",
       "mean           1.199333    1.000000  \n",
       "std            0.762238    0.819232  \n",
       "min            0.100000    0.000000  \n",
       "25%            0.300000    0.000000  \n",
       "50%            1.300000    1.000000  \n",
       "75%            1.800000    2.000000  \n",
       "max            2.500000    2.000000  "
      ]
     },
     "execution_count": 31,
     "metadata": {},
     "output_type": "execute_result"
    }
   ],
   "source": [
    "df.describe()"
   ]
  },
  {
   "cell_type": "code",
   "execution_count": 127,
   "id": "caa585b0-fa5a-47c9-beaf-4373817f9f96",
   "metadata": {},
   "outputs": [
    {
     "data": {
      "text/plain": [
       "sepal length (cm)    0\n",
       "sepal width (cm)     0\n",
       "petal length (cm)    0\n",
       "petal width (cm)     0\n",
       "Target               0\n",
       "dtype: int64"
      ]
     },
     "execution_count": 127,
     "metadata": {},
     "output_type": "execute_result"
    }
   ],
   "source": [
    "df.isnull().sum()"
   ]
  },
  {
   "cell_type": "code",
   "execution_count": 129,
   "id": "9db6c340-fc1e-43c1-ae02-7e8b5cac5dbe",
   "metadata": {},
   "outputs": [
    {
     "data": {
      "text/plain": [
       "1"
      ]
     },
     "execution_count": 129,
     "metadata": {},
     "output_type": "execute_result"
    }
   ],
   "source": [
    "df.duplicated().sum()"
   ]
  },
  {
   "cell_type": "code",
   "execution_count": 131,
   "id": "a91ddd45-0c3e-438d-b2d5-e16055effde2",
   "metadata": {},
   "outputs": [],
   "source": [
    "df.drop_duplicates(inplace=True)"
   ]
  },
  {
   "cell_type": "code",
   "execution_count": 133,
   "id": "829d1f00-2837-462a-be42-0e14e3756f7c",
   "metadata": {},
   "outputs": [
    {
     "data": {
      "text/plain": [
       "0"
      ]
     },
     "execution_count": 133,
     "metadata": {},
     "output_type": "execute_result"
    }
   ],
   "source": [
    "df.duplicated().sum()"
   ]
  },
  {
   "cell_type": "markdown",
   "id": "2d26e1d2-690f-4f23-bcd6-0617be3932a8",
   "metadata": {},
   "source": [
    "#### Drop the species column since this is a clustering problem."
   ]
  },
  {
   "cell_type": "markdown",
   "id": "bf9a8380-8e9a-494b-9216-7c0d7bfd6c6a",
   "metadata": {},
   "source": [
    "Here species is classified in target column, So it is removing. As clustering is an unsupervised model there is no need of target column."
   ]
  },
  {
   "cell_type": "code",
   "execution_count": 137,
   "id": "ba303b16-2cf7-4b71-91fb-390702a3fc2f",
   "metadata": {},
   "outputs": [],
   "source": [
    "df.drop(columns='Target', inplace=True)\n"
   ]
  },
  {
   "cell_type": "code",
   "execution_count": 139,
   "id": "8100717c-41ad-48ad-a5cb-885bb5b54455",
   "metadata": {},
   "outputs": [
    {
     "data": {
      "text/html": [
       "<div>\n",
       "<style scoped>\n",
       "    .dataframe tbody tr th:only-of-type {\n",
       "        vertical-align: middle;\n",
       "    }\n",
       "\n",
       "    .dataframe tbody tr th {\n",
       "        vertical-align: top;\n",
       "    }\n",
       "\n",
       "    .dataframe thead th {\n",
       "        text-align: right;\n",
       "    }\n",
       "</style>\n",
       "<table border=\"1\" class=\"dataframe\">\n",
       "  <thead>\n",
       "    <tr style=\"text-align: right;\">\n",
       "      <th></th>\n",
       "      <th>sepal length (cm)</th>\n",
       "      <th>sepal width (cm)</th>\n",
       "      <th>petal length (cm)</th>\n",
       "      <th>petal width (cm)</th>\n",
       "    </tr>\n",
       "  </thead>\n",
       "  <tbody>\n",
       "    <tr>\n",
       "      <th>0</th>\n",
       "      <td>5.1</td>\n",
       "      <td>3.5</td>\n",
       "      <td>1.4</td>\n",
       "      <td>0.2</td>\n",
       "    </tr>\n",
       "    <tr>\n",
       "      <th>1</th>\n",
       "      <td>4.9</td>\n",
       "      <td>3.0</td>\n",
       "      <td>1.4</td>\n",
       "      <td>0.2</td>\n",
       "    </tr>\n",
       "    <tr>\n",
       "      <th>2</th>\n",
       "      <td>4.7</td>\n",
       "      <td>3.2</td>\n",
       "      <td>1.3</td>\n",
       "      <td>0.2</td>\n",
       "    </tr>\n",
       "    <tr>\n",
       "      <th>3</th>\n",
       "      <td>4.6</td>\n",
       "      <td>3.1</td>\n",
       "      <td>1.5</td>\n",
       "      <td>0.2</td>\n",
       "    </tr>\n",
       "    <tr>\n",
       "      <th>4</th>\n",
       "      <td>5.0</td>\n",
       "      <td>3.6</td>\n",
       "      <td>1.4</td>\n",
       "      <td>0.2</td>\n",
       "    </tr>\n",
       "  </tbody>\n",
       "</table>\n",
       "</div>"
      ],
      "text/plain": [
       "   sepal length (cm)  sepal width (cm)  petal length (cm)  petal width (cm)\n",
       "0                5.1               3.5                1.4               0.2\n",
       "1                4.9               3.0                1.4               0.2\n",
       "2                4.7               3.2                1.3               0.2\n",
       "3                4.6               3.1                1.5               0.2\n",
       "4                5.0               3.6                1.4               0.2"
      ]
     },
     "execution_count": 139,
     "metadata": {},
     "output_type": "execute_result"
    }
   ],
   "source": [
    "df.head()"
   ]
  },
  {
   "cell_type": "code",
   "execution_count": 76,
   "id": "c46d5903-5fe7-42b5-9161-3b8203eda6ec",
   "metadata": {},
   "outputs": [],
   "source": [
    "correlation_matrix=df.corr()"
   ]
  },
  {
   "cell_type": "code",
   "execution_count": 141,
   "id": "9b86e151-a250-42f6-95d0-faa63560d0b5",
   "metadata": {},
   "outputs": [
    {
     "data": {
      "image/png": "[encoded data removed]",
      "text/plain": [
       "<Figure size 640x480 with 2 Axes>"
      ]
     },
     "metadata": {},
     "output_type": "display_data"
    }
   ],
   "source": [
    "# Plot the heatmap\n",
    "import seaborn as sns\n",
    "sns.heatmap(correlation_matrix, annot=True, cmap='coolwarm', fmt=\".2f\")\n",
    "plt.title(\"Correlation Matrix Heatmap\")\n",
    "plt.show()"
   ]
  },
  {
   "cell_type": "markdown",
   "id": "47afe79e-37be-43ca-8be5-6c8efec8b5b4",
   "metadata": {},
   "source": [
    "### 2.Clustering Algorithm Implementation"
   ]
  },
  {
   "cell_type": "markdown",
   "id": "b9e18033-294d-4c04-8345-85b75e2bf674",
   "metadata": {},
   "source": [
    "#### A) KMeans Clustering \n",
    "K-Means is an unsupervised machine learning algorithm used to group data into a specified number of clusters (k). The process works as follows:\n",
    "\n",
    "* Initialization: Randomly select k points as initial cluster centroids.\n",
    "* Assignment: Assign each data point to the nearest centroid based on a distance metric (e.g., Euclidean distance).\n",
    "* Update: Recalculate the centroids by averaging the data points assigned to each cluster.\n",
    "* Repeat: Iterate steps 2 and 3 until the centroids stabilize (i.e., no significant change in their positions) or a maximum number of iterations is reached.\n",
    "* Output: The algorithm outputs cluster assignments and the final centroid positions.\n",
    "* K-Means works best with numerical data and assumes clusters are spherical and evenly sized. It may require preprocessing (e.g., scaling) for optimal results."
   ]
  },
  {
   "cell_type": "markdown",
   "id": "5ee4e867-e37c-4630-9a4a-3e3c295fae07",
   "metadata": {},
   "source": [
    "Why KMeans clustering might be suitable for the Iris dataset?\n",
    "\n",
    "K-Means clustering is suitable for the Iris dataset because it is an unsupervised algorithm that can effectively group data points based on their features, and the Iris dataset contains well-defined numerical features (sepal length, sepal width, petal length, and petal width). These features provide clear separations between species in a multi-dimensional space, making it ideal for K-Means, which works by minimizing intra-cluster distances. Additionally, the Iris dataset is small, balanced, and has roughly spherical clusters, aligning well with the assumptions of K-Means. This allows the algorithm to group the data into three clusters that can correspond to the three species (setosa, versicolor, virginica) without relying on labeled data.\n",
    "\n",
    "\n",
    "\n",
    "\n",
    "\n",
    "\n",
    "\n"
   ]
  },
  {
   "cell_type": "markdown",
   "id": "47a8580a-862c-4761-bdc1-134e766874cc",
   "metadata": {},
   "source": [
    "#### Apply KMeans clustering to the preprocessed Iris dataset and visualize the clusters."
   ]
  },
  {
   "cell_type": "markdown",
   "id": "3ce95c07-8944-4682-bdf7-47eee49fcde8",
   "metadata": {},
   "source": [
    "##### First feature scaling is doing for leading to biased clustering results."
   ]
  },
  {
   "cell_type": "code",
   "execution_count": 155,
   "id": "7184288a-076a-4594-80cb-875d9f92cf1e",
   "metadata": {},
   "outputs": [],
   "source": [
    "dfc=df.copy()"
   ]
  },
  {
   "cell_type": "code",
   "execution_count": 159,
   "id": "49650d0c-be23-4277-b824-3a3d1f1e4715",
   "metadata": {},
   "outputs": [],
   "source": [
    "scaler=StandardScaler()\n",
    "scaled_data=scaler.fit_transform(dfc)\n",
    "X=pd.DataFrame(scaled_data)"
   ]
  },
  {
   "cell_type": "code",
   "execution_count": 282,
   "id": "9a14002e-540c-4620-a0a4-852b820d8241",
   "metadata": {},
   "outputs": [
    {
     "data": {
      "text/html": [
       "<div>\n",
       "<style scoped>\n",
       "    .dataframe tbody tr th:only-of-type {\n",
       "        vertical-align: middle;\n",
       "    }\n",
       "\n",
       "    .dataframe tbody tr th {\n",
       "        vertical-align: top;\n",
       "    }\n",
       "\n",
       "    .dataframe thead th {\n",
       "        text-align: right;\n",
       "    }\n",
       "</style>\n",
       "<table border=\"1\" class=\"dataframe\">\n",
       "  <thead>\n",
       "    <tr style=\"text-align: right;\">\n",
       "      <th></th>\n",
       "      <th>0</th>\n",
       "      <th>1</th>\n",
       "      <th>2</th>\n",
       "      <th>3</th>\n",
       "      <th>cluster</th>\n",
       "    </tr>\n",
       "  </thead>\n",
       "  <tbody>\n",
       "    <tr>\n",
       "      <th>0</th>\n",
       "      <td>-0.898033</td>\n",
       "      <td>1.012401</td>\n",
       "      <td>-1.333255</td>\n",
       "      <td>-1.308624</td>\n",
       "      <td>1</td>\n",
       "    </tr>\n",
       "    <tr>\n",
       "      <th>1</th>\n",
       "      <td>-1.139562</td>\n",
       "      <td>-0.137353</td>\n",
       "      <td>-1.333255</td>\n",
       "      <td>-1.308624</td>\n",
       "      <td>1</td>\n",
       "    </tr>\n",
       "    <tr>\n",
       "      <th>2</th>\n",
       "      <td>-1.381091</td>\n",
       "      <td>0.322549</td>\n",
       "      <td>-1.390014</td>\n",
       "      <td>-1.308624</td>\n",
       "      <td>1</td>\n",
       "    </tr>\n",
       "    <tr>\n",
       "      <th>3</th>\n",
       "      <td>-1.501855</td>\n",
       "      <td>0.092598</td>\n",
       "      <td>-1.276496</td>\n",
       "      <td>-1.308624</td>\n",
       "      <td>1</td>\n",
       "    </tr>\n",
       "    <tr>\n",
       "      <th>4</th>\n",
       "      <td>-1.018798</td>\n",
       "      <td>1.242352</td>\n",
       "      <td>-1.333255</td>\n",
       "      <td>-1.308624</td>\n",
       "      <td>1</td>\n",
       "    </tr>\n",
       "  </tbody>\n",
       "</table>\n",
       "</div>"
      ],
      "text/plain": [
       "          0         1         2         3  cluster\n",
       "0 -0.898033  1.012401 -1.333255 -1.308624        1\n",
       "1 -1.139562 -0.137353 -1.333255 -1.308624        1\n",
       "2 -1.381091  0.322549 -1.390014 -1.308624        1\n",
       "3 -1.501855  0.092598 -1.276496 -1.308624        1\n",
       "4 -1.018798  1.242352 -1.333255 -1.308624        1"
      ]
     },
     "execution_count": 282,
     "metadata": {},
     "output_type": "execute_result"
    }
   ],
   "source": [
    "X.head()"
   ]
  },
  {
   "cell_type": "markdown",
   "id": "1f6aaaca-2af2-4dd3-927b-8275c65fc9fb",
   "metadata": {},
   "source": [
    "#### Elbow method :\n",
    "\n",
    "The Elbow Method is a technique used in KMeans clustering to determine the optimal number of clusters (K) for a dataset. It works by plotting the within-cluster sum of squares (WCSS) against different values of K and looking for the \"elbow point\" in the graph. The elbow point is where the rate of decrease in WCSS slows significantly, indicating that adding more clusters does not provide substantial improvement in clustering performance. This optimal K balances model simplicity and accuracy, avoiding both underfitting and overfitting."
   ]
  },
  {
   "cell_type": "code",
   "execution_count": 161,
   "id": "ddbec3e5-433e-4a61-bae3-7ea724c24ea4",
   "metadata": {},
   "outputs": [],
   "source": [
    "#Using Elbow method\n",
    "inertia_values=[]\n",
    "k=range(1,10)\n",
    "for i in k:\n",
    "    m=KMeans(n_clusters=i)\n",
    "    m.fit(X)\n",
    "    inertia_values.append(m.inertia_)"
   ]
  },
  {
   "cell_type": "code",
   "execution_count": 163,
   "id": "2b162ad9-a239-4ed5-a3f4-b907d97dafe2",
   "metadata": {},
   "outputs": [
    {
     "data": {
      "image/png": "[encoded data removed]",
      "text/plain": [
       "<Figure size 640x480 with 1 Axes>"
      ]
     },
     "metadata": {},
     "output_type": "display_data"
    }
   ],
   "source": [
    "plt.plot(k,inertia_values,marker='o')\n",
    "plt.title('Elbow method')\n",
    "plt.show()"
   ]
  },
  {
   "cell_type": "markdown",
   "id": "774954cd-c36b-468b-bb6a-32068a04fc35",
   "metadata": {},
   "source": [
    "<font color=green size=4>From this taking K=4 as optimal clustering size."
   ]
  },
  {
   "cell_type": "code",
   "execution_count": 167,
   "id": "766b8f5f-1a8a-4138-b38e-da88b18908fb",
   "metadata": {},
   "outputs": [
    {
     "data": {
      "text/html": [
       "<div>\n",
       "<style scoped>\n",
       "    .dataframe tbody tr th:only-of-type {\n",
       "        vertical-align: middle;\n",
       "    }\n",
       "\n",
       "    .dataframe tbody tr th {\n",
       "        vertical-align: top;\n",
       "    }\n",
       "\n",
       "    .dataframe thead th {\n",
       "        text-align: right;\n",
       "    }\n",
       "</style>\n",
       "<table border=\"1\" class=\"dataframe\">\n",
       "  <thead>\n",
       "    <tr style=\"text-align: right;\">\n",
       "      <th></th>\n",
       "      <th>0</th>\n",
       "      <th>1</th>\n",
       "      <th>2</th>\n",
       "      <th>3</th>\n",
       "      <th>Cluster</th>\n",
       "    </tr>\n",
       "  </thead>\n",
       "  <tbody>\n",
       "    <tr>\n",
       "      <th>0</th>\n",
       "      <td>-0.898033</td>\n",
       "      <td>1.012401</td>\n",
       "      <td>-1.333255</td>\n",
       "      <td>-1.308624</td>\n",
       "      <td>5</td>\n",
       "    </tr>\n",
       "    <tr>\n",
       "      <th>1</th>\n",
       "      <td>-1.139562</td>\n",
       "      <td>-0.137353</td>\n",
       "      <td>-1.333255</td>\n",
       "      <td>-1.308624</td>\n",
       "      <td>1</td>\n",
       "    </tr>\n",
       "    <tr>\n",
       "      <th>2</th>\n",
       "      <td>-1.381091</td>\n",
       "      <td>0.322549</td>\n",
       "      <td>-1.390014</td>\n",
       "      <td>-1.308624</td>\n",
       "      <td>1</td>\n",
       "    </tr>\n",
       "    <tr>\n",
       "      <th>3</th>\n",
       "      <td>-1.501855</td>\n",
       "      <td>0.092598</td>\n",
       "      <td>-1.276496</td>\n",
       "      <td>-1.308624</td>\n",
       "      <td>1</td>\n",
       "    </tr>\n",
       "    <tr>\n",
       "      <th>4</th>\n",
       "      <td>-1.018798</td>\n",
       "      <td>1.242352</td>\n",
       "      <td>-1.333255</td>\n",
       "      <td>-1.308624</td>\n",
       "      <td>5</td>\n",
       "    </tr>\n",
       "  </tbody>\n",
       "</table>\n",
       "</div>"
      ],
      "text/plain": [
       "          0         1         2         3  Cluster\n",
       "0 -0.898033  1.012401 -1.333255 -1.308624        5\n",
       "1 -1.139562 -0.137353 -1.333255 -1.308624        1\n",
       "2 -1.381091  0.322549 -1.390014 -1.308624        1\n",
       "3 -1.501855  0.092598 -1.276496 -1.308624        1\n",
       "4 -1.018798  1.242352 -1.333255 -1.308624        5"
      ]
     },
     "execution_count": 167,
     "metadata": {},
     "output_type": "execute_result"
    }
   ],
   "source": [
    "k=6\n",
    "kmeans=KMeans(n_clusters=6,random_state=42)\n",
    "X['Cluster']=kmeans.fit_predict(X)\n",
    "X.head()"
   ]
  },
  {
   "cell_type": "markdown",
   "id": "c35ff2e8-5b47-463b-b8c0-257f8b523688",
   "metadata": {},
   "source": [
    "<font color=green size=4>Clusters are formed"
   ]
  },
  {
   "cell_type": "markdown",
   "id": "2b200e59-4a15-4da8-b856-150d971b6935",
   "metadata": {},
   "source": [
    "#### Using PCA (Dimensionality reduction) for ploting a better clustered scatter plot.\n"
   ]
  },
  {
   "cell_type": "code",
   "execution_count": 173,
   "id": "aec073a9-369f-4532-a9cc-b7b10fad85dc",
   "metadata": {},
   "outputs": [
    {
     "name": "stdout",
     "output_type": "stream",
     "text": [
      "        PC1       PC2\n",
      "0  3.144138 -1.500925\n",
      "1 -0.901081 -2.394621\n",
      "2 -0.714896 -2.622701\n",
      "3 -0.822685 -2.596003\n",
      "4  3.232918 -1.599075\n"
     ]
    }
   ],
   "source": [
    "# Assuming `X` is your DataFrame or scaled data\n",
    "if isinstance(X, pd.DataFrame):\n",
    "    X.columns = X.columns.astype(str)  # Ensure column names are strings\n",
    "\n",
    "# Perform PCA\n",
    "pca = PCA(n_components=2)\n",
    "pca_data = pca.fit_transform(X)\n",
    "\n",
    "# Create a DataFrame for the PCA-transformed data\n",
    "pca_df = pd.DataFrame(pca_data, columns=['PC1', 'PC2'])\n",
    "print(pca_df.head())"
   ]
  },
  {
   "cell_type": "markdown",
   "id": "0f877f43-a100-4969-8c5f-b63e63fe3af9",
   "metadata": {},
   "source": [
    "#### Plotting"
   ]
  },
  {
   "cell_type": "code",
   "execution_count": 185,
   "id": "82660a49-eda3-4005-afd4-20759f3657d0",
   "metadata": {},
   "outputs": [
    {
     "data": {
      "image/png": "[encoded data removed]",
      "text/plain": [
       "<Figure size 800x600 with 1 Axes>"
      ]
     },
     "metadata": {},
     "output_type": "display_data"
    }
   ],
   "source": [
    "import matplotlib.pyplot as plt\n",
    "\n",
    "# Assuming `pca_df` is your DataFrame containing PC1, PC2, and cluster labels\n",
    "pca_df['Cluster'] = X['Cluster']  # Add cluster labels to pca_df\n",
    "\n",
    "# Plotting the clusters\n",
    "plt.figure(figsize=(8, 6))\n",
    "for cluster in sorted(pca_df['Cluster'].unique()):\n",
    "    cluster_data = pca_df[pca_df['Cluster'] == cluster]\n",
    "    plt.scatter(cluster_data['PC1'], cluster_data['PC2'], label=f'Cluster {cluster}')\n",
    "\n",
    "# Adding cluster centers\n",
    "cluster_centers = kmeans.cluster_centers_\n",
    "cluster_centers_pca = PCA(n_components=2).fit_transform(cluster_centers)  # Transform cluster centers using PCA\n",
    "plt.scatter(cluster_centers_pca[:, 0], cluster_centers_pca[:, 1], \n",
    "            c='red', marker='o', s=50, label='Centroids')\n",
    "\n",
    "# Customizing the plot\n",
    "plt.title('KMeans Clustering Visualization (PCA-Reduced Data)', fontsize=14)\n",
    "plt.xlabel('Principal Component 1', fontsize=12)\n",
    "plt.ylabel('Principal Component 2', fontsize=12)\n",
    "plt.legend(title='Clusters')\n",
    "plt.show()\n"
   ]
  },
  {
   "cell_type": "markdown",
   "id": "579a7e8b-a364-436f-b3f0-ac9c03a2edbc",
   "metadata": {},
   "source": [
    "### B) Hierarchical Clustering\n",
    "\n",
    "Hierarchical clustering is a clustering technique that groups data points into a hierarchy of clusters. It operates either in a divisive (top-down) or agglomerative (bottom-up) manner. Agglomerative clustering starts with each data point as its own cluster and iteratively merges the closest clusters based on a distance metric (e.g., Euclidean) until all points form a single cluster. Divisive clustering does the reverse, splitting one large cluster into smaller clusters. The results are visualized using a dendrogram, which shows the merging or splitting process and helps determine the optimal number of clusters by cutting the dendrogram at a specific level. Hierarchical clustering is particularly useful for understanding nested cluster relationships."
   ]
  },
  {
   "cell_type": "markdown",
   "id": "6a401b11-2ff2-4063-9ec8-f26ac47418e4",
   "metadata": {},
   "source": [
    "#### Why Hierarchical Clustering for Iris dataset?\n",
    "Hierarchical clustering is important in the Iris dataset as it helps uncover natural groupings of the three flower species (Setosa, Versicolor, Virginica) without requiring predefined labels. It provides a dendrogram that visually represents the clustering process, offering insights into how data points and species are related at different levels. By leveraging distance-based metrics, hierarchical clustering identifies patterns in the petal and sepal measurements, making it a powerful tool for exploratory data analysis and understanding the dataset’s structure."
   ]
  },
  {
   "cell_type": "code",
   "execution_count": 244,
   "id": "e528b68c-0702-4819-847a-ca7f0b167bda",
   "metadata": {},
   "outputs": [
    {
     "data": {
      "text/html": [
       "<div>\n",
       "<style scoped>\n",
       "    .dataframe tbody tr th:only-of-type {\n",
       "        vertical-align: middle;\n",
       "    }\n",
       "\n",
       "    .dataframe tbody tr th {\n",
       "        vertical-align: top;\n",
       "    }\n",
       "\n",
       "    .dataframe thead th {\n",
       "        text-align: right;\n",
       "    }\n",
       "</style>\n",
       "<table border=\"1\" class=\"dataframe\">\n",
       "  <thead>\n",
       "    <tr style=\"text-align: right;\">\n",
       "      <th></th>\n",
       "      <th>sepal length (cm)</th>\n",
       "      <th>sepal width (cm)</th>\n",
       "      <th>petal length (cm)</th>\n",
       "      <th>petal width (cm)</th>\n",
       "    </tr>\n",
       "  </thead>\n",
       "  <tbody>\n",
       "    <tr>\n",
       "      <th>0</th>\n",
       "      <td>5.1</td>\n",
       "      <td>3.5</td>\n",
       "      <td>1.4</td>\n",
       "      <td>0.2</td>\n",
       "    </tr>\n",
       "    <tr>\n",
       "      <th>1</th>\n",
       "      <td>4.9</td>\n",
       "      <td>3.0</td>\n",
       "      <td>1.4</td>\n",
       "      <td>0.2</td>\n",
       "    </tr>\n",
       "    <tr>\n",
       "      <th>2</th>\n",
       "      <td>4.7</td>\n",
       "      <td>3.2</td>\n",
       "      <td>1.3</td>\n",
       "      <td>0.2</td>\n",
       "    </tr>\n",
       "    <tr>\n",
       "      <th>3</th>\n",
       "      <td>4.6</td>\n",
       "      <td>3.1</td>\n",
       "      <td>1.5</td>\n",
       "      <td>0.2</td>\n",
       "    </tr>\n",
       "    <tr>\n",
       "      <th>4</th>\n",
       "      <td>5.0</td>\n",
       "      <td>3.6</td>\n",
       "      <td>1.4</td>\n",
       "      <td>0.2</td>\n",
       "    </tr>\n",
       "  </tbody>\n",
       "</table>\n",
       "</div>"
      ],
      "text/plain": [
       "   sepal length (cm)  sepal width (cm)  petal length (cm)  petal width (cm)\n",
       "0                5.1               3.5                1.4               0.2\n",
       "1                4.9               3.0                1.4               0.2\n",
       "2                4.7               3.2                1.3               0.2\n",
       "3                4.6               3.1                1.5               0.2\n",
       "4                5.0               3.6                1.4               0.2"
      ]
     },
     "execution_count": 244,
     "metadata": {},
     "output_type": "execute_result"
    }
   ],
   "source": [
    "dfc.head()"
   ]
  },
  {
   "cell_type": "code",
   "execution_count": 246,
   "id": "4a2471ca-101c-4019-8a67-b52faff6bbd6",
   "metadata": {},
   "outputs": [],
   "source": [
    "#  Create a linkage matrix using scipy's linkage function\n",
    "Z = linkage(dfc, method='ward')  # 'ward' minimizes variance within clusters\n"
   ]
  },
  {
   "cell_type": "code",
   "execution_count": 248,
   "id": "bdd446fe-fd92-4931-aeaa-b3f112b2a674",
   "metadata": {},
   "outputs": [
    {
     "data": {
      "image/png": "[encoded data removed]",
      "text/plain": [
       "<Figure size 1000x700 with 1 Axes>"
      ]
     },
     "metadata": {},
     "output_type": "display_data"
    }
   ],
   "source": [
    "# Step 3: Plot the dendrogram to visualize the hierarchy\n",
    "plt.figure(figsize=(10, 7))\n",
    "dend = shc.dendrogram(shc.linkage (dfc, method='ward'))\n",
    "plt.title('Dendrogram for Hierarchical Clustering', fontsize=14)\n",
    "plt.xlabel('Samples', fontsize=12)\n",
    "plt.ylabel('Euclidean Distance', fontsize=12)\n",
    "plt.yticks(rotation=90)\n",
    "plt.show()\n"
   ]
  },
  {
   "cell_type": "code",
   "execution_count": 250,
   "id": "757b46b8-ebf7-400a-bc08-d354728bed49",
   "metadata": {},
   "outputs": [
    {
     "data": {
      "text/plain": [
       "{'C0', 'C1', 'C2'}"
      ]
     },
     "execution_count": 250,
     "metadata": {},
     "output_type": "execute_result"
    }
   ],
   "source": [
    "uniquecolors = set(dend[\"color_list\"])\n",
    "uniquecolors"
   ]
  },
  {
   "cell_type": "code",
   "execution_count": 268,
   "id": "c7b5ece6-6675-4a7d-843d-e6dcf09047e7",
   "metadata": {},
   "outputs": [
    {
     "data": {
      "text/plain": [
       "2"
      ]
     },
     "execution_count": 268,
     "metadata": {},
     "output_type": "execute_result"
    }
   ],
   "source": [
    "optimal_number_of_clusters = len(uniquecolors)-1\n",
    "optimal_number_of_clusters"
   ]
  },
  {
   "cell_type": "code",
   "execution_count": 272,
   "id": "ec1981a7-ca80-441e-9826-fbe08a77199b",
   "metadata": {},
   "outputs": [
    {
     "data": {
      "text/plain": [
       "array([1, 1, 1, 1, 1, 1, 1, 1, 1, 1, 1, 1, 1, 1, 1, 1, 1, 1, 1, 1, 1, 1,\n",
       "       1, 1, 1, 1, 1, 1, 1, 1, 1, 1, 1, 1, 1, 1, 1, 1, 1, 1, 1, 1, 1, 1,\n",
       "       1, 1, 1, 1, 1, 0, 0, 0, 0, 0, 0, 0, 0, 0, 0, 0, 0, 0, 0, 0, 0, 0,\n",
       "       0, 0, 0, 0, 0, 0, 0, 0, 0, 0, 0, 0, 0, 0, 0, 0, 0, 0, 0, 0, 0, 0,\n",
       "       0, 0, 0, 0, 0, 0, 0, 0, 0, 0, 0, 0, 0, 0, 0, 0, 0, 0, 0, 0, 0, 0,\n",
       "       0, 0, 0, 0, 0, 0, 0, 0, 0, 0, 0, 0, 0, 0, 0, 0, 0, 0, 0, 0, 0, 0,\n",
       "       0, 0, 0, 0, 0, 0, 0, 0, 0, 0, 0, 0, 0, 0, 0, 0], dtype=int64)"
      ]
     },
     "execution_count": 272,
     "metadata": {},
     "output_type": "execute_result"
    }
   ],
   "source": [
    "clusters = AgglomerativeClustering(n_clusters = optimal_number_of_clusters, metric=\"euclidean\", linkage=\"ward\")\n",
    "clusters.fit_predict(dfc)"
   ]
  },
  {
   "cell_type": "code",
   "execution_count": 276,
   "id": "d691c08a-240d-4060-80b0-41f76e35bf45",
   "metadata": {},
   "outputs": [
    {
     "data": {
      "text/html": [
       "<div>\n",
       "<style scoped>\n",
       "    .dataframe tbody tr th:only-of-type {\n",
       "        vertical-align: middle;\n",
       "    }\n",
       "\n",
       "    .dataframe tbody tr th {\n",
       "        vertical-align: top;\n",
       "    }\n",
       "\n",
       "    .dataframe thead th {\n",
       "        text-align: right;\n",
       "    }\n",
       "</style>\n",
       "<table border=\"1\" class=\"dataframe\">\n",
       "  <thead>\n",
       "    <tr style=\"text-align: right;\">\n",
       "      <th></th>\n",
       "      <th>sepal length (cm)</th>\n",
       "      <th>sepal width (cm)</th>\n",
       "      <th>petal length (cm)</th>\n",
       "      <th>petal width (cm)</th>\n",
       "      <th>cluster</th>\n",
       "    </tr>\n",
       "  </thead>\n",
       "  <tbody>\n",
       "    <tr>\n",
       "      <th>0</th>\n",
       "      <td>5.1</td>\n",
       "      <td>3.5</td>\n",
       "      <td>1.4</td>\n",
       "      <td>0.2</td>\n",
       "      <td>1</td>\n",
       "    </tr>\n",
       "    <tr>\n",
       "      <th>1</th>\n",
       "      <td>4.9</td>\n",
       "      <td>3.0</td>\n",
       "      <td>1.4</td>\n",
       "      <td>0.2</td>\n",
       "      <td>1</td>\n",
       "    </tr>\n",
       "    <tr>\n",
       "      <th>2</th>\n",
       "      <td>4.7</td>\n",
       "      <td>3.2</td>\n",
       "      <td>1.3</td>\n",
       "      <td>0.2</td>\n",
       "      <td>1</td>\n",
       "    </tr>\n",
       "    <tr>\n",
       "      <th>3</th>\n",
       "      <td>4.6</td>\n",
       "      <td>3.1</td>\n",
       "      <td>1.5</td>\n",
       "      <td>0.2</td>\n",
       "      <td>1</td>\n",
       "    </tr>\n",
       "    <tr>\n",
       "      <th>4</th>\n",
       "      <td>5.0</td>\n",
       "      <td>3.6</td>\n",
       "      <td>1.4</td>\n",
       "      <td>0.2</td>\n",
       "      <td>1</td>\n",
       "    </tr>\n",
       "    <tr>\n",
       "      <th>...</th>\n",
       "      <td>...</td>\n",
       "      <td>...</td>\n",
       "      <td>...</td>\n",
       "      <td>...</td>\n",
       "      <td>...</td>\n",
       "    </tr>\n",
       "    <tr>\n",
       "      <th>145</th>\n",
       "      <td>6.7</td>\n",
       "      <td>3.0</td>\n",
       "      <td>5.2</td>\n",
       "      <td>2.3</td>\n",
       "      <td>0</td>\n",
       "    </tr>\n",
       "    <tr>\n",
       "      <th>146</th>\n",
       "      <td>6.3</td>\n",
       "      <td>2.5</td>\n",
       "      <td>5.0</td>\n",
       "      <td>1.9</td>\n",
       "      <td>0</td>\n",
       "    </tr>\n",
       "    <tr>\n",
       "      <th>147</th>\n",
       "      <td>6.5</td>\n",
       "      <td>3.0</td>\n",
       "      <td>5.2</td>\n",
       "      <td>2.0</td>\n",
       "      <td>0</td>\n",
       "    </tr>\n",
       "    <tr>\n",
       "      <th>148</th>\n",
       "      <td>6.2</td>\n",
       "      <td>3.4</td>\n",
       "      <td>5.4</td>\n",
       "      <td>2.3</td>\n",
       "      <td>0</td>\n",
       "    </tr>\n",
       "    <tr>\n",
       "      <th>149</th>\n",
       "      <td>5.9</td>\n",
       "      <td>3.0</td>\n",
       "      <td>5.1</td>\n",
       "      <td>1.8</td>\n",
       "      <td>0</td>\n",
       "    </tr>\n",
       "  </tbody>\n",
       "</table>\n",
       "<p>148 rows × 5 columns</p>\n",
       "</div>"
      ],
      "text/plain": [
       "     sepal length (cm)  sepal width (cm)  petal length (cm)  petal width (cm)  \\\n",
       "0                  5.1               3.5                1.4               0.2   \n",
       "1                  4.9               3.0                1.4               0.2   \n",
       "2                  4.7               3.2                1.3               0.2   \n",
       "3                  4.6               3.1                1.5               0.2   \n",
       "4                  5.0               3.6                1.4               0.2   \n",
       "..                 ...               ...                ...               ...   \n",
       "145                6.7               3.0                5.2               2.3   \n",
       "146                6.3               2.5                5.0               1.9   \n",
       "147                6.5               3.0                5.2               2.0   \n",
       "148                6.2               3.4                5.4               2.3   \n",
       "149                5.9               3.0                5.1               1.8   \n",
       "\n",
       "     cluster  \n",
       "0          1  \n",
       "1          1  \n",
       "2          1  \n",
       "3          1  \n",
       "4          1  \n",
       "..       ...  \n",
       "145        0  \n",
       "146        0  \n",
       "147        0  \n",
       "148        0  \n",
       "149        0  \n",
       "\n",
       "[148 rows x 5 columns]"
      ]
     },
     "execution_count": 276,
     "metadata": {},
     "output_type": "execute_result"
    }
   ],
   "source": [
    "dfc['cluster']=clusters.fit_predict(dfc)\n",
    "dfc"
   ]
  },
  {
   "cell_type": "markdown",
   "id": "5b245346-26e1-42a5-b256-1592dcf674cd",
   "metadata": {},
   "source": [
    "#### Plot using Agglomerative clustering"
   ]
  },
  {
   "cell_type": "code",
   "execution_count": 286,
   "id": "aef514d8-8771-4e2d-ae50-7796d4d8f9cb",
   "metadata": {},
   "outputs": [
    {
     "data": {
      "image/png": "[encoded data removed]",
      "text/plain": [
       "<Figure size 800x600 with 2 Axes>"
      ]
     },
     "metadata": {},
     "output_type": "display_data"
    }
   ],
   "source": [
    "# Extracting features and clusters\n",
    "x = dfc['sepal length (cm)']  # Choose one feature for x-axis\n",
    "y = dfc['sepal width (cm)']   # Choose another feature for y-axis\n",
    "clusters = dfc['cluster']     # Cluster assignments\n",
    "\n",
    "# Scatter plot\n",
    "plt.figure(figsize=(8, 6))\n",
    "scatter = plt.scatter(x, y, c=clusters, cmap='viridis', s=50, edgecolor='k')\n",
    "\n",
    "# Adding labels and title\n",
    "plt.title('Scatter Plot of Clusters')\n",
    "plt.xlabel('Sepal Length (cm)')\n",
    "plt.ylabel('Sepal Width (cm)')\n",
    "plt.colorbar(scatter, label='Cluster')  # Add colorbar to show cluster mapping\n",
    "plt.show()"
   ]
  },
  {
   "cell_type": "code",
   "execution_count": null,
   "id": "7ad27948-e742-4ffe-83d4-365e24075cb4",
   "metadata": {},
   "outputs": [],
   "source": []
  },
  {
   "cell_type": "code",
   "execution_count": null,
   "id": "f9ec9857-397e-4381-998b-c98113a0da09",
   "metadata": {},
   "outputs": [],
   "source": []
  }
 ],
 "metadata": {
  "kernelspec": {
   "display_name": "Python [conda env:base] *",
   "language": "python",
   "name": "conda-base-py"
  },
  "language_info": {
   "codemirror_mode": {
    "name": "ipython",
    "version": 3
   },
   "file_extension": ".py",
   "mimetype": "text/x-python",
   "name": "python",
   "nbconvert_exporter": "python",
   "pygments_lexer": "ipython3",
   "version": "3.12.7"
  }
 },
 "nbformat": 4,
 "nbformat_minor": 5
}
